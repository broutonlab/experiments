{
  "nbformat": 4,
  "nbformat_minor": 0,
  "metadata": {
    "kernelspec": {
      "display_name": "Python 3",
      "language": "python",
      "name": "python3"
    },
    "language_info": {
      "codemirror_mode": {
        "name": "ipython",
        "version": 3
      },
      "file_extension": ".py",
      "mimetype": "text/x-python",
      "name": "python",
      "nbconvert_exporter": "python",
      "pygments_lexer": "ipython3",
      "version": "3.6.12"
    },
    "colab": {
      "name": "Experiments management with Weights & Biases.ipynb",
      "provenance": [],
      "collapsed_sections": []
    }
  },
  "cells": [
    {
      "cell_type": "markdown",
      "metadata": {
        "id": "W7MbmiVKIeF_"
      },
      "source": [
        "# Data science experiments management with Weights & Biases platform  \n",
        "### In this tutorial we will show you how to effectively log experiments with the help of WandB.  "
      ]
    },
    {
      "cell_type": "markdown",
      "metadata": {
        "id": "uKbIVqaoIeGF"
      },
      "source": [
        "## 1. Dashboards"
      ]
    },
    {
      "cell_type": "code",
      "metadata": {
        "id": "_lVkAzPFIkx0"
      },
      "source": [
        "!pip install tensorflow"
      ],
      "execution_count": null,
      "outputs": []
    },
    {
      "cell_type": "code",
      "metadata": {
        "id": "XlawLBeOIeGG"
      },
      "source": [
        "!pip install wandb -q #install library\n",
        "import wandb"
      ],
      "execution_count": null,
      "outputs": []
    },
    {
      "cell_type": "code",
      "metadata": {
        "scrolled": true,
        "id": "3yTey9TgIeGH"
      },
      "source": [
        "!wandb login #or try to open terminal and run it there"
      ],
      "execution_count": null,
      "outputs": []
    },
    {
      "cell_type": "code",
      "metadata": {
        "id": "bIcNUrFXIeGH"
      },
      "source": [
        "project_name = 'first_steps'\n",
        "group_name = 'cnn'\n",
        "experiment_name = '2_conv'"
      ],
      "execution_count": null,
      "outputs": []
    },
    {
      "cell_type": "code",
      "metadata": {
        "id": "8E_9FdC7IeGH"
      },
      "source": [
        "import tensorflow as tf\n",
        "from tensorflow.keras.callbacks import Callback\n",
        "from wandb.keras import WandbCallback\n",
        "import numpy as np"
      ],
      "execution_count": null,
      "outputs": []
    },
    {
      "cell_type": "markdown",
      "metadata": {
        "id": "VU4a30WXIeGH"
      },
      "source": [
        "### First parameter config"
      ]
    },
    {
      "cell_type": "code",
      "metadata": {
        "id": "Rzq8vkQbIeGI"
      },
      "source": [
        "wandb.init(\n",
        "    project=project_name,\n",
        "    group=group_name,\n",
        "    name=experiment_name,\n",
        "    config={\n",
        "        \"conv_1\": 16,\n",
        "        \"activation_1\": \"relu\",\n",
        "        \"kernel_size\": (3, 3),\n",
        "        \"pool_size\": (2, 2),\n",
        "        \"dropout\": 0.7,\n",
        "        \"conv_2\": 32,\n",
        "        \"activation_out\": \"softmax\",\n",
        "        \"optimizer\": \"adam\",\n",
        "        \"loss\": \"sparse_categorical_crossentropy\",\n",
        "        \"metric\": \"accuracy\",\n",
        "        \"epoch\": 6,\n",
        "        \"batch_size\": 32\n",
        "    })\n",
        "config = wandb.config"
      ],
      "execution_count": null,
      "outputs": []
    },
    {
      "cell_type": "code",
      "metadata": {
        "id": "SYIrfPCDIeGI"
      },
      "source": [
        "mnist = tf.keras.datasets.mnist\n",
        "(x_train, y_train), (x_test, y_test) = mnist.load_data() ##data download\n",
        "x_train = x_train.astype(\"float32\") / 255\n",
        "x_test = x_test.astype(\"float32\") / 255\n",
        "x_train = np.expand_dims(x_train, -1)\n",
        "x_test = np.expand_dims(x_test, -1)\n",
        "x_train, y_train = x_train[::5], y_train[::5] "
      ],
      "execution_count": null,
      "outputs": []
    },
    {
      "cell_type": "code",
      "metadata": {
        "id": "8w6kCKHiIeGI"
      },
      "source": [
        "class_names = ['0', '1', '2', '3', '4', '5', '6', '7', '8', '9']"
      ],
      "execution_count": null,
      "outputs": []
    },
    {
      "cell_type": "code",
      "metadata": {
        "id": "-uILP_yeIeGI"
      },
      "source": [
        "def cnn_mnist(config, num_classes = 10, input_shape = (28, 28, 1)): ##simple Keras CNN\n",
        "    img_inputs = tf.keras.Input(shape=input_shape)\n",
        "    conv_1 = tf.keras.layers.Conv2D(config.conv_1, kernel_size=config.kernel_size, activation=config.activation_1)(img_inputs)\n",
        "    pool_1 = tf.keras.layers.MaxPooling2D(pool_size=config.pool_size)(conv_1)\n",
        "    conv_2 = tf.keras.layers.Conv2D(config.conv_2, kernel_size=config.kernel_size, activation=config.activation_1)(pool_1)\n",
        "    pool_2 = tf.keras.layers.MaxPooling2D(pool_size=config.pool_size)(conv_2)\n",
        "    flatten = tf.keras.layers.Flatten()(pool_2)\n",
        "    dropout = tf.keras.layers.Dropout(config.dropout)(flatten)\n",
        "    dense_out = tf.keras.layers.Dense(num_classes, activation=config.activation_out)(dropout)\n",
        "    model = tf.keras.models.Model(inputs=img_inputs, outputs=dense_out)\n",
        "    model.compile(loss=config.loss, optimizer=config.optimizer, metrics=[config.metric])\n",
        "    return model"
      ],
      "execution_count": null,
      "outputs": []
    },
    {
      "cell_type": "code",
      "metadata": {
        "id": "zg5_PwywIeGJ"
      },
      "source": [
        "our_model = cnn_mnist()"
      ],
      "execution_count": null,
      "outputs": []
    },
    {
      "cell_type": "code",
      "metadata": {
        "scrolled": true,
        "id": "UkcPr_U7IeGJ"
      },
      "source": [
        "our_model.fit(x_train, y_train, epochs=config.epoch, batch_size=config.batch_size,\n",
        "          validation_data=(x_test, y_test),\n",
        "          callbacks=[wandb.keras.WandbCallback(data_type=\"image\",\n",
        "          labels=class_names)])\n",
        "\n",
        "wandb.finish()"
      ],
      "execution_count": null,
      "outputs": []
    },
    {
      "cell_type": "markdown",
      "metadata": {
        "id": "UPxY89-lIeGJ"
      },
      "source": [
        "### Second parameter config"
      ]
    },
    {
      "cell_type": "code",
      "metadata": {
        "id": "Z6M0lB0cIeGJ"
      },
      "source": [
        "project_name = 'first_steps'\n",
        "group_name = 'cnn'\n",
        "experiment_name = '2_conv_changed_channels'\n",
        "\n",
        "wandb.init(\n",
        "    project=project_name,\n",
        "    group=group_name,\n",
        "    name=experiment_name,\n",
        "    config={\n",
        "        \"conv_1\": 16,\n",
        "        \"activation_1\": \"relu\",\n",
        "        \"kernel_size\": (3, 3),\n",
        "        \"pool_size\": (2, 2),\n",
        "        \"dropout\": 0.7,\n",
        "        \"conv_2\": 32,\n",
        "        \"activation_out\": \"softmax\",\n",
        "        \"optimizer\": \"adam\",\n",
        "        \"loss\": \"sparse_categorical_crossentropy\",\n",
        "        \"metric\": \"accuracy\",\n",
        "        \"epoch\": 6,\n",
        "        \"batch_size\": 32\n",
        "    })\n",
        "config = wandb.config\n",
        "\n",
        "our_model = cnn_mnist()"
      ],
      "execution_count": null,
      "outputs": []
    },
    {
      "cell_type": "code",
      "metadata": {
        "scrolled": true,
        "id": "BFwLx8ZmIeGK"
      },
      "source": [
        "our_model.fit(x_train, y_train, epochs=config.epoch, batch_size=config.batch_size,\n",
        "          validation_data=(x_test, y_test),\n",
        "          callbacks=[wandb.keras.WandbCallback(data_type=\"image\",\n",
        "          labels=class_names)])\n",
        "\n",
        "wandb.finish()"
      ],
      "execution_count": null,
      "outputs": []
    },
    {
      "cell_type": "markdown",
      "metadata": {
        "id": "ALPFyB0GIeGK"
      },
      "source": [
        "## 2. Sweeps"
      ]
    },
    {
      "cell_type": "code",
      "metadata": {
        "id": "C-ft0Z_kIeGK"
      },
      "source": [
        "# Configure the sweep – specify the parameters to search through, the search strategy, the optimization metric et all.\n",
        "sweep_config = {\n",
        "    'method': 'random', #grid, random\n",
        "    'metric': {\n",
        "      'name': 'accuracy',\n",
        "      'goal': 'maximize'   \n",
        "    },\n",
        "    'parameters': {\n",
        "        'epoch': {\n",
        "            'values': [5, 10]\n",
        "        },\n",
        "        'dropout': {\n",
        "            'values': [0.3, 0.4, 0.5]\n",
        "        },\n",
        "        'conv_1': {\n",
        "            'values': [16, 32, 64]\n",
        "        },\n",
        "        'conv_2': {\n",
        "            'values': [16, 32, 64]\n",
        "        },\n",
        "        'optimizer': {\n",
        "            'values': ['adam', 'nadam', 'sgd', 'rmsprop']\n",
        "        },\n",
        "        'activation_1': {\n",
        "            'values': ['relu', 'elu', 'selu','sigmoid']\n",
        "        },\n",
        "        'kernel_size': {\n",
        "            'values': [(3, 3), (5, 5), (7, 7)]\n",
        "        },\n",
        "        \n",
        "    }\n",
        "}"
      ],
      "execution_count": null,
      "outputs": []
    },
    {
      "cell_type": "code",
      "metadata": {
        "id": "TlQAeXlIIeGK"
      },
      "source": [
        "user_name = 'your_wandb_login'\n",
        "sweep_id = wandb.sweep(sweep_config, entity=user_name, project=\"first_steps\")"
      ],
      "execution_count": null,
      "outputs": []
    },
    {
      "cell_type": "code",
      "metadata": {
        "id": "y-2wecKOIeGL"
      },
      "source": [
        "def train():\n",
        "    # Default values for hyper-parameters we're going to sweep over\n",
        "    config_defaults = {\n",
        "        \"conv_1\": 32,\n",
        "        \"activation_1\": \"relu\",\n",
        "        \"kernel_size\": (3, 3),\n",
        "        \"pool_size\": (2, 2),\n",
        "        \"dropout\": 0.1,\n",
        "        \"conv_2\": 64,\n",
        "        \"activation_out\": \"softmax\",\n",
        "        \"optimizer\": \"adam\",\n",
        "        \"loss\": \"sparse_categorical_crossentropy\",\n",
        "        \"metric\": \"accuracy\",\n",
        "        \"epoch\": 6,\n",
        "        \"batch_size\": 32\n",
        "    }\n",
        "\n",
        "    # Initialize a new wandb run\n",
        "    wandb.init(config=config_defaults)\n",
        "    \n",
        "    # Config is a variable that holds and saves hyperparameters and inputs\n",
        "    config = wandb.config\n",
        "    \n",
        "    model = cnn_mnist(config=config)\n",
        "    \n",
        "    model.fit(x_train, y_train, epochs=config.epoch, batch_size=config.batch_size,\n",
        "          validation_data=(x_test, y_test),\n",
        "          callbacks=[wandb.keras.WandbCallback()])"
      ],
      "execution_count": null,
      "outputs": []
    },
    {
      "cell_type": "code",
      "metadata": {
        "id": "XXacE7-VIeGL"
      },
      "source": [
        "wandb.agent(sweep_id, train)"
      ],
      "execution_count": null,
      "outputs": []
    },
    {
      "cell_type": "markdown",
      "metadata": {
        "id": "b1OfJa3CIeGL"
      },
      "source": [
        "## 3. Artifacts"
      ]
    },
    {
      "cell_type": "code",
      "metadata": {
        "id": "P41psk12IeGL"
      },
      "source": [
        "from collections import namedtuple\n",
        "Dataset = namedtuple(\"Dataset\", [\"x\", \"y\"])\n",
        "\n",
        "def load_data_split(train_size=50_000):\n",
        "    \n",
        "\n",
        "    (x_train, y_train), (x_test, y_test) = tf.keras.datasets.mnist.load_data()\n",
        "\n",
        "\n",
        "    x_train, x_val = x_train[:train_size], x_train[train_size:]\n",
        "    y_train, y_val = y_train[:train_size], y_train[train_size:]\n",
        "\n",
        "    training_data = Dataset(x_train, y_train)\n",
        "    validation_data = Dataset(x_val, y_val)\n",
        "    test_data = Dataset(x_test, y_test)\n",
        "\n",
        "    datasets = [training_data, validation_data, test_data]\n",
        "\n",
        "    return datasets"
      ],
      "execution_count": null,
      "outputs": []
    },
    {
      "cell_type": "code",
      "metadata": {
        "scrolled": true,
        "id": "sNkHBYBZIeGM"
      },
      "source": [
        "def load_and_log():\n",
        "    with wandb.init(project=project_name, job_type=\"load-data\") as run:\n",
        "        \n",
        "        datasets = load_data_split() \n",
        "        names = [\"training\", \"validation\", \"test\"]\n",
        "\n",
        "        # Artifact\n",
        "        raw_data = wandb.Artifact(\n",
        "            \"mnist-raw\", type=\"dataset\",\n",
        "            description=\"Raw MNIST dataset, splitted\",\n",
        "            metadata={\"source\": \"keras.datasets.mnist\",\n",
        "                      \"train_data\": len(datasets[0].x),\n",
        "                      \"valid_data\": len(datasets[1].x),\n",
        "                      \"test_daata\": len(datasets[2].x)})\n",
        "\n",
        "        for name, data in zip(names, datasets):\n",
        "            # Save our datasets\n",
        "            with raw_data.new_file(name + \".npz\", mode=\"wb\") as file:\n",
        "                np.savez(file, x=data.x, y=data.y)\n",
        "        #save Artifact\n",
        "        run.log_artifact(raw_data)\n",
        "\n",
        "load_and_log()"
      ],
      "execution_count": null,
      "outputs": []
    },
    {
      "cell_type": "code",
      "metadata": {
        "id": "OOrdjjcUIeGM"
      },
      "source": [
        "def preprocess_dataset(dataset, normalize=True, expand_dims=True, to_categorical=True):\n",
        "    x, y = dataset.x, dataset.y\n",
        "\n",
        "    if normalize:\n",
        "        x = x.astype(\"float32\") / 255\n",
        "\n",
        "    if expand_dims:\n",
        "        x = np.expand_dims(x, -1)\n",
        "\n",
        "    if to_categorical:\n",
        "        y = tf.keras.utils.to_categorical(y, num_classes)\n",
        "        \n",
        "    return Dataset(x, y)"
      ],
      "execution_count": null,
      "outputs": []
    },
    {
      "cell_type": "code",
      "metadata": {
        "id": "dk-f7EDLIeGM"
      },
      "source": [
        "import os\n",
        "def preprocess_and_log(preprocess_steps):\n",
        "\n",
        "    with wandb.init(project=project_name, job_type=\"data_preprocessing\", name=\"preprocess_simple\") as run:\n",
        "\n",
        "        processed_data = wandb.Artifact(\n",
        "            \"mnist-preprocessed\", type=\"dataset\",\n",
        "            description=\"Preprocessed MNIST dataset\",\n",
        "            metadata=preprocess_steps)\n",
        "         \n",
        "        # which Artifact we will use\n",
        "        raw_data_artifact = run.use_artifact('mnist-raw:latest')\n",
        "\n",
        "        # download Artifact\n",
        "        raw_dataset = raw_data_artifact.download()\n",
        "        \n",
        "        for split in [\"training\", \"validation\", \"test\"]:\n",
        "            datafile = split + \".npz\"\n",
        "            data = np.load(os.path.join(raw_dataset, datafile))\n",
        "            raw_split = Dataset(x=data[\"x\"], y=data[\"y\"])\n",
        "            processed_dataset = preprocess_dataset(raw_split, **preprocess_steps)\n",
        "\n",
        "            with processed_data.new_file(split + \".npz\", mode=\"wb\") as file:\n",
        "                np.savez(file, x=processed_dataset.x, y=processed_dataset.y)\n",
        "\n",
        "        run.log_artifact(processed_data)\n",
        "\n",
        "\n",
        "steps = {\"normalize\": True,\n",
        "         \"expand_dims\": True,\n",
        "         \"to_categorical\" : True}\n",
        "\n",
        "preprocess_and_log(steps)"
      ],
      "execution_count": null,
      "outputs": []
    }
  ]
}